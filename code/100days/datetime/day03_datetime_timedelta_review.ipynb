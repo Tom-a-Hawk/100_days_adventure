{
 "cells": [
  {
   "cell_type": "markdown",
   "metadata": {},
   "source": [
    "## Review of datetime"
   ]
  },
  {
   "cell_type": "code",
   "execution_count": 1,
   "metadata": {},
   "outputs": [],
   "source": [
    "from datetime import datetime\n",
    "from datetime import date\n",
    "import random"
   ]
  },
  {
   "cell_type": "code",
   "execution_count": 2,
   "metadata": {},
   "outputs": [
    {
     "data": {
      "text/plain": [
       "datetime.datetime(2018, 7, 22, 17, 15, 43, 659627)"
      ]
     },
     "execution_count": 2,
     "metadata": {},
     "output_type": "execute_result"
    }
   ],
   "source": [
    "datetime.today()"
   ]
  },
  {
   "cell_type": "code",
   "execution_count": 3,
   "metadata": {},
   "outputs": [
    {
     "data": {
      "text/plain": [
       "datetime.date(2018, 7, 22)"
      ]
     },
     "execution_count": 3,
     "metadata": {},
     "output_type": "execute_result"
    }
   ],
   "source": [
    "date.today()"
   ]
  },
  {
   "cell_type": "code",
   "execution_count": 4,
   "metadata": {},
   "outputs": [],
   "source": [
    "christmas = date(2018, 12, 25)"
   ]
  },
  {
   "cell_type": "code",
   "execution_count": 5,
   "metadata": {},
   "outputs": [
    {
     "data": {
      "text/plain": [
       "'156'"
      ]
     },
     "execution_count": 5,
     "metadata": {},
     "output_type": "execute_result"
    }
   ],
   "source": [
    "str((christmas - date.today()).days)"
   ]
  },
  {
   "cell_type": "markdown",
   "metadata": {},
   "source": [
    "# Review of timedelta"
   ]
  },
  {
   "cell_type": "code",
   "execution_count": 6,
   "metadata": {},
   "outputs": [],
   "source": [
    "from datetime import timedelta"
   ]
  },
  {
   "cell_type": "code",
   "execution_count": 7,
   "metadata": {},
   "outputs": [],
   "source": [
    "t = timedelta(days=4, hours=10)"
   ]
  },
  {
   "cell_type": "code",
   "execution_count": 8,
   "metadata": {},
   "outputs": [
    {
     "data": {
      "text/plain": [
       "4"
      ]
     },
     "execution_count": 8,
     "metadata": {},
     "output_type": "execute_result"
    }
   ],
   "source": [
    "t.days"
   ]
  },
  {
   "cell_type": "code",
   "execution_count": 9,
   "metadata": {},
   "outputs": [
    {
     "data": {
      "text/plain": [
       "36000"
      ]
     },
     "execution_count": 9,
     "metadata": {},
     "output_type": "execute_result"
    }
   ],
   "source": [
    "t.seconds \n",
    "# equals the number of seconds in 10 hours"
   ]
  },
  {
   "cell_type": "code",
   "execution_count": 10,
   "metadata": {},
   "outputs": [
    {
     "data": {
      "text/plain": [
       "10.0"
      ]
     },
     "execution_count": 10,
     "metadata": {},
     "output_type": "execute_result"
    }
   ],
   "source": [
    "t.seconds /60/60"
   ]
  },
  {
   "cell_type": "code",
   "execution_count": 11,
   "metadata": {},
   "outputs": [],
   "source": [
    "eta = timedelta(hours=6)"
   ]
  },
  {
   "cell_type": "code",
   "execution_count": 12,
   "metadata": {},
   "outputs": [],
   "source": [
    "today = datetime.today()"
   ]
  },
  {
   "cell_type": "code",
   "execution_count": 13,
   "metadata": {},
   "outputs": [
    {
     "data": {
      "text/plain": [
       "datetime.datetime(2018, 7, 22, 17, 15, 45, 358598)"
      ]
     },
     "execution_count": 13,
     "metadata": {},
     "output_type": "execute_result"
    }
   ],
   "source": [
    "today"
   ]
  },
  {
   "cell_type": "code",
   "execution_count": 14,
   "metadata": {},
   "outputs": [
    {
     "data": {
      "text/plain": [
       "'2018-07-22 23:15:45.358598'"
      ]
     },
     "execution_count": 14,
     "metadata": {},
     "output_type": "execute_result"
    }
   ],
   "source": [
    "str(today + eta)"
   ]
  },
  {
   "cell_type": "markdown",
   "metadata": {},
   "source": [
    "# Practice Exercise\n",
    "Make a bootleg pomodoro timer\n",
    "- work for 25 minutes\n",
    "- take a 3-5 minute break four times\n",
    "- on the 5th break take a 15-30 minute break\n",
    "- repeat the process\n"
   ]
  },
  {
   "cell_type": "code",
   "execution_count": 27,
   "metadata": {},
   "outputs": [
    {
     "name": "stdout",
     "output_type": "stream",
     "text": [
      "starting time is 2018-07-22 17:15:45.358598\n",
      "work for 25 minutes until 2018-07-22 17:40:45.358598\n",
      "take a shorter 3 minute break at 2018-07-22 17:43:45.358598\n",
      "work for 25 minutes until 2018-07-22 18:08:45.358598\n",
      "take a shorter 5 minute break at 2018-07-22 18:13:45.358598\n",
      "work for 25 minutes until 2018-07-22 18:38:45.358598\n",
      "take a shorter 4 minute break at 2018-07-22 18:42:45.358598\n",
      "work for 25 minutes until 2018-07-22 19:07:45.358598\n",
      "take a shorter 4 minute break at 2018-07-22 19:11:45.358598\n",
      "work for 25 minutes until 2018-07-22 19:36:45.358598\n",
      "take a longer 16 minute break at 2018-07-22 19:52:45.358598\n",
      "work for 25 minutes until 2018-07-22 20:17:45.358598\n",
      "take a shorter 4 minute break at 2018-07-22 20:21:45.358598\n",
      "work for 25 minutes until 2018-07-22 20:46:45.358598\n",
      "take a shorter 5 minute break at 2018-07-22 20:51:45.358598\n",
      "work for 25 minutes until 2018-07-22 21:16:45.358598\n",
      "take a shorter 5 minute break at 2018-07-22 21:21:45.358598\n",
      "work for 25 minutes until 2018-07-22 21:46:45.358598\n",
      "take a shorter 5 minute break at 2018-07-22 21:51:45.358598\n",
      "work for 25 minutes until 2018-07-22 22:16:45.358598\n",
      "take a longer 17 minute break at 2018-07-22 22:33:45.358598\n"
     ]
    }
   ],
   "source": [
    "work_interval = timedelta(days=0, minutes=25)\n",
    "counter = 0\n",
    "time_variable = today\n",
    "print(\"starting time is \" + str(time_variable))\n",
    "for x in range(1,11):\n",
    "    counter = counter + 1\n",
    "    time_variable = time_variable+work_interval\n",
    "    print(\"work for 25 minutes until \" + str(time_variable))\n",
    "    if counter % 5 == 0:\n",
    "        #longer break time\n",
    "        long_break_int = random.randint(15,30)\n",
    "        time_variable = time_variable + timedelta(days=0, minutes=long_break_int)\n",
    "        print(\"take a longer \" + str(long_break_int) + \" minute break at \" + str(time_variable))\n",
    "    else:\n",
    "        #shorter break time\n",
    "        short_break_int = random.randint(3,5)\n",
    "        time_variable = time_variable + timedelta(days=0, minutes=short_break_int)\n",
    "        print(\"take a shorter \" + str(short_break_int) + \" minute break at \" + str(time_variable))  "
   ]
  }
 ],
 "metadata": {
  "kernelspec": {
   "display_name": "Python 3",
   "language": "python",
   "name": "python3"
  },
  "language_info": {
   "codemirror_mode": {
    "name": "ipython",
    "version": 3
   },
   "file_extension": ".py",
   "mimetype": "text/x-python",
   "name": "python",
   "nbconvert_exporter": "python",
   "pygments_lexer": "ipython3",
   "version": "3.7.0"
  }
 },
 "nbformat": 4,
 "nbformat_minor": 2
}
